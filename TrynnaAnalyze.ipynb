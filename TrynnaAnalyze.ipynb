{
 "cells": [
  {
   "cell_type": "code",
   "execution_count": 4,
   "id": "initial_id",
   "metadata": {
    "collapsed": true,
    "ExecuteTime": {
     "end_time": "2024-02-29T20:10:46.896812700Z",
     "start_time": "2024-02-29T20:10:46.842792200Z"
    }
   },
   "outputs": [
    {
     "name": "stdout",
     "output_type": "stream",
     "text": [
      "14856\n"
     ]
    }
   ],
   "source": [
    "import os\n",
    "from termcolor import colored, cprint\n",
    "import random\n",
    "from string import ascii_lowercase\n",
    "\n",
    "PREFIX = \"/mnt/c/Users/Satyamedh/PycharmProjects/WordleAI/\"\n",
    "unsorted_words = open(PREFIX + \"words.txt\", \"r\").read().split(\"\\n\")\n",
    "print(len(unsorted_words))\n",
    "\n",
    "words = sorted(unsorted_words)\n",
    "# remove duplicates\n",
    "words = list(set(words))\n",
    "# remove empty strings\n",
    "words = [word for word in words if word]\n",
    "# sort\n",
    "words = sorted(words)"
   ]
  },
  {
   "cell_type": "code",
   "execution_count": 5,
   "outputs": [
    {
     "data": {
      "text/plain": "{'a': 7128,\n 'b': 1849,\n 'c': 2246,\n 'd': 2735,\n 'e': 7455,\n 'f': 1240,\n 'g': 1864,\n 'h': 1993,\n 'i': 4381,\n 'j': 342,\n 'k': 1753,\n 'l': 3780,\n 'm': 2414,\n 'n': 3478,\n 'o': 5212,\n 'p': 2436,\n 'q': 145,\n 'r': 4714,\n 's': 7319,\n 't': 3707,\n 'u': 2927,\n 'v': 801,\n 'w': 1127,\n 'x': 326,\n 'y': 2400,\n 'z': 503}"
     },
     "execution_count": 5,
     "metadata": {},
     "output_type": "execute_result"
    }
   ],
   "source": [
    "freq_dict = {}\n",
    "# init\n",
    "for letter in ascii_lowercase:\n",
    "    freq_dict[letter] = 0\n",
    "for word in words:\n",
    "    for letter in word:\n",
    "        freq_dict[letter] += 1\n",
    "        \n",
    "freq_dict"
   ],
   "metadata": {
    "collapsed": false,
    "ExecuteTime": {
     "end_time": "2024-02-29T20:10:47.209467300Z",
     "start_time": "2024-02-29T20:10:47.162427Z"
    }
   },
   "id": "99f3cea52d070e5f"
  },
  {
   "cell_type": "code",
   "execution_count": 6,
   "outputs": [
    {
     "data": {
      "text/plain": "{'e': 7455,\n 's': 7319,\n 'a': 7128,\n 'o': 5212,\n 'r': 4714,\n 'i': 4381,\n 'l': 3780,\n 't': 3707,\n 'n': 3478,\n 'u': 2927,\n 'd': 2735,\n 'p': 2436,\n 'm': 2414,\n 'y': 2400,\n 'c': 2246,\n 'h': 1993,\n 'g': 1864,\n 'b': 1849,\n 'k': 1753,\n 'f': 1240,\n 'w': 1127,\n 'v': 801,\n 'z': 503,\n 'j': 342,\n 'x': 326,\n 'q': 145}"
     },
     "execution_count": 6,
     "metadata": {},
     "output_type": "execute_result"
    }
   ],
   "source": [
    "# sort by value\n",
    "freq_dict = dict(sorted(freq_dict.items(), key=lambda item: item[1], reverse=True))\n",
    "freq_dict"
   ],
   "metadata": {
    "collapsed": false,
    "ExecuteTime": {
     "end_time": "2024-02-29T20:11:12.529278500Z",
     "start_time": "2024-02-29T20:11:12.474277500Z"
    }
   },
   "id": "751d441f63ae1cd9"
  },
  {
   "cell_type": "code",
   "execution_count": null,
   "outputs": [],
   "source": [
    "# GUESSING STRATEGY- \n",
    "# Ask user for green letters. use _ as a placeholder for unknown letters\n",
    "# eliminate words that don't fit the pattern (does regex work?)\n",
    "# Ask user for yellow letters. no order here\n",
    "# eliminate words accordingly\n",
    "# Ask user for gray letters. no order here\n",
    "# eliminate words accordingly\n",
    "\n",
    "# Therefore, if -\n",
    "# the word doesnt have the same letter in the same position as a green letter, eliminate it\n",
    "# the word doesnt have any of the yellow letters, eliminate it\n",
    "# the word has any of the gray letters, eliminate it\n",
    "\n",
    "# FUTURE TODO:\n",
    "# use google ngrams to sort the filtered words by frequency\n",
    "## Future note: this wont do anything because the words are picked randomly lmao. therefore the probability of a word being in the ngrams is the same for all words, this is a useless step\n",
    "\n",
    "## damn 3:33am brain is working hard"
   ],
   "metadata": {
    "collapsed": false
   },
   "id": "ea53a60ad532580f"
  }
 ],
 "metadata": {
  "kernelspec": {
   "display_name": "Python 3",
   "language": "python",
   "name": "python3"
  },
  "language_info": {
   "codemirror_mode": {
    "name": "ipython",
    "version": 2
   },
   "file_extension": ".py",
   "mimetype": "text/x-python",
   "name": "python",
   "nbconvert_exporter": "python",
   "pygments_lexer": "ipython2",
   "version": "2.7.6"
  }
 },
 "nbformat": 4,
 "nbformat_minor": 5
}
